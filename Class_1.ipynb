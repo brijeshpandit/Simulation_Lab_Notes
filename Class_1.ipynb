{
 "cells": [
  {
   "cell_type": "code",
   "execution_count": null,
   "id": "322a5fe2-200c-4004-be3c-b6c6add6d279",
   "metadata": {},
   "outputs": [],
   "source": [
    "import pandas as pd \n",
    "import numpy as np\n",
    "import seaborn as sns\n",
    "import matplotlib.pyplot as plt\n",
    "import os"
   ]
  },
  {
   "cell_type": "code",
   "execution_count": null,
   "id": "9058519f-6cbb-475e-a889-7f763dbbbc02",
   "metadata": {},
   "outputs": [
    {
     "name": "stdout",
     "output_type": "stream",
     "text": [
      "This is test1\n",
      "\n",
      "This is test2\n",
      "\n",
      "This is test3\n"
     ]
    }
   ],
   "source": [
    "f = open('lab_69202_file1.dat','w+') # opening file named \"lab_69202_file1.dat\" with read and write\n",
    "#writing required lines\n",
    "f.write('This is test1\\nThis is test2\\nThis is test3')\n",
    "f.seek(0)\n",
    "# using for loop to print the list elements\n",
    "for i in f.readlines():\n",
    "    print(i)\n",
    "f.close()"
   ]
  },
  {
   "cell_type": "code",
   "execution_count": 32,
   "id": "5d0342da-55ee-40f2-ba70-135704be830d",
   "metadata": {},
   "outputs": [
    {
     "name": "stdout",
     "output_type": "stream",
     "text": [
      "The average annual rainfall in Kolkata is 72.30 inches\n",
      "\n",
      "The average annual rainfall in Delhi is 31.10 inches\n"
     ]
    }
   ],
   "source": [
    "f = open('lab_69202_file1.dat','w+')\n",
    "kolkatarain = 72.30\n",
    "delhirain = 31.1\n",
    "f.write(f'The average annual rainfall in Kolkata is {\"%.2f\" % kolkatarain} inches\\nThe average annual rainfall in Delhi is {\"%.2f\" % delhirain} inches')\n",
    "f.seek(0)\n",
    "for i in f.readlines():\n",
    "    print(i)\n",
    "f.close()"
   ]
  },
  {
   "cell_type": "raw",
   "id": "0ab7b13b-b10c-44d8-8a09-96ccf06baa2e",
   "metadata": {},
   "source": []
  },
  {
   "cell_type": "code",
   "execution_count": 47,
   "id": "b84745b8-ecd8-4479-8e25-243bfdaaab9a",
   "metadata": {},
   "outputs": [
    {
     "name": "stdout",
     "output_type": "stream",
     "text": [
      "This is test2\n",
      "\n",
      "This is test3\n"
     ]
    }
   ],
   "source": [
    "f = open('lab_69202_file2.dat','w+')\n",
    "f.write('This is test1\\nThis is test2\\nThis is test3')\n",
    "f.seek(0)\n",
    "l = f.readlines()\n",
    "for i in range(1,len(l)):\n",
    "    print(l[i])"
   ]
  },
  {
   "cell_type": "code",
   "execution_count": null,
   "id": "3b3b1fc6-a0e3-425c-9fe1-69770e4c1786",
   "metadata": {},
   "outputs": [],
   "source": []
  }
 ],
 "metadata": {
  "kernelspec": {
   "display_name": "Python 3 (ipykernel)",
   "language": "python",
   "name": "python3"
  },
  "language_info": {
   "codemirror_mode": {
    "name": "ipython",
    "version": 3
   },
   "file_extension": ".py",
   "mimetype": "text/x-python",
   "name": "python",
   "nbconvert_exporter": "python",
   "pygments_lexer": "ipython3",
   "version": "3.9.12"
  }
 },
 "nbformat": 4,
 "nbformat_minor": 5
}
