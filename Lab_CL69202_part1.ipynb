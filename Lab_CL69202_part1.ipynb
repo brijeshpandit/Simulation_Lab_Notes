{
 "cells": [
  {
   "cell_type": "code",
   "execution_count": 78,
   "id": "f1295eaa",
   "metadata": {},
   "outputs": [
    {
     "data": {
      "text/plain": [
       "['CL69202', 18, 'CL63204', 15]"
      ]
     },
     "execution_count": 78,
     "metadata": {},
     "output_type": "execute_result"
    }
   ],
   "source": [
    "p=[]\n",
    "a=list()\n",
    "b=list()\n",
    "a=[\"CL69202\",18]\n",
    "b=[\"CL63204\",15]\n",
    "a+b\n"
   ]
  },
  {
   "cell_type": "code",
   "execution_count": 18,
   "id": "19e6b52f",
   "metadata": {},
   "outputs": [
    {
     "data": {
      "text/plain": [
       "[1, 4, 5, 6, 2, 2, 2, 2]"
      ]
     },
     "execution_count": 18,
     "metadata": {},
     "output_type": "execute_result"
    }
   ],
   "source": [
    "a=[1, 4, 5, 6]\n",
    "b=[2, 2, 2, 2]\n",
    "\n",
    "a+b"
   ]
  },
  {
   "cell_type": "code",
   "execution_count": 28,
   "id": "8fec549b",
   "metadata": {},
   "outputs": [
    {
     "name": "stdout",
     "output_type": "stream",
     "text": [
      "3\n",
      "6\n",
      "7\n",
      "8\n"
     ]
    }
   ],
   "source": [
    "a=[1, 4, 5, 6]\n",
    "b=[2, 2, 2, 2]\n",
    "\n",
    "for i in range(0,4):\n",
    "    print(a[i]+b[i])\n"
   ]
  },
  {
   "cell_type": "code",
   "execution_count": 32,
   "id": "9a23ccd1",
   "metadata": {},
   "outputs": [
    {
     "name": "stdout",
     "output_type": "stream",
     "text": [
      "array('i', [1, 2, 3, 4])\n"
     ]
    }
   ],
   "source": [
    "import array as built_in\n",
    "array1 = built_in.array('i', [1, 2]) # format is array1 = built_in.array(typecode, initializer), the initializer can be 0\n",
    "array1.append(3)\n",
    "array1.append(4)\n",
    "print(array1)"
   ]
  },
  {
   "cell_type": "code",
   "execution_count": 36,
   "id": "a1d07cdd",
   "metadata": {},
   "outputs": [
    {
     "name": "stdout",
     "output_type": "stream",
     "text": [
      "array('f', [1.5, 2.5, 3.5, 4.5])\n"
     ]
    }
   ],
   "source": [
    "import array as built_in\n",
    "array1 = built_in.array('f', [1.5, 2.5]) # f is for float type \n",
    "array1.append(3.5)\n",
    "array1.append(4.5)\n",
    "print(array1)"
   ]
  },
  {
   "cell_type": "code",
   "execution_count": 38,
   "id": "aa04f429",
   "metadata": {},
   "outputs": [
    {
     "data": {
      "text/plain": [
       "array([3, 6, 7, 8])"
      ]
     },
     "execution_count": 38,
     "metadata": {},
     "output_type": "execute_result"
    }
   ],
   "source": [
    "import numpy as np\n",
    "\n",
    "a=np.array([1, 4, 5, 6])\n",
    "b=np.array([2, 2, 2, 2])\n",
    "\n",
    "a+b"
   ]
  },
  {
   "cell_type": "code",
   "execution_count": 39,
   "id": "9bdeaf7e",
   "metadata": {},
   "outputs": [
    {
     "data": {
      "text/plain": [
       "array([3., 6., 7., 8.])"
      ]
     },
     "execution_count": 39,
     "metadata": {},
     "output_type": "execute_result"
    }
   ],
   "source": [
    "import numpy as np\n",
    "\n",
    "a=np.array([1, 4, 5.0, 6])\n",
    "b=np.array([2, 2, 2, 2])\n",
    "\n",
    "a+b"
   ]
  },
  {
   "cell_type": "code",
   "execution_count": 47,
   "id": "87c2b059",
   "metadata": {},
   "outputs": [
    {
     "name": "stdout",
     "output_type": "stream",
     "text": [
      "[0. 0. 0. 0.]\n",
      "(4,)\n"
     ]
    }
   ],
   "source": [
    "import numpy as np\n",
    "\n",
    "a=np.zeros((4)) #one dimensional\n",
    "\n",
    "print(a)\n",
    "\n",
    "print(np.shape(a))"
   ]
  },
  {
   "cell_type": "code",
   "execution_count": 48,
   "id": "f2e31657",
   "metadata": {},
   "outputs": [
    {
     "name": "stdout",
     "output_type": "stream",
     "text": [
      "[[0. 0.]]\n",
      "(1, 2)\n"
     ]
    }
   ],
   "source": [
    "import numpy as np\n",
    "\n",
    "a=np.zeros((1,2)) #two dimensional\n",
    "\n",
    "print(a)\n",
    "\n",
    "print(np.shape(a)) #Number of rows and columns"
   ]
  },
  {
   "cell_type": "code",
   "execution_count": 49,
   "id": "920f4aa1",
   "metadata": {},
   "outputs": [
    {
     "name": "stdout",
     "output_type": "stream",
     "text": [
      "[[0. 0. 0. 0. 0.]\n",
      " [0. 0. 0. 0. 0.]\n",
      " [0. 0. 0. 0. 0.]\n",
      " [0. 0. 0. 0. 0.]]\n",
      "(4, 5)\n"
     ]
    }
   ],
   "source": [
    "import numpy as np\n",
    "\n",
    "a=np.zeros((4,5)) #two dimensional\n",
    "\n",
    "print(a)\n",
    "\n",
    "print(np.shape(a))"
   ]
  },
  {
   "cell_type": "code",
   "execution_count": 51,
   "id": "04017fa7",
   "metadata": {},
   "outputs": [
    {
     "name": "stdout",
     "output_type": "stream",
     "text": [
      "[[[0. 0. 0. 0. 0. 0.]\n",
      "  [0. 0. 0. 0. 0. 0.]\n",
      "  [0. 0. 0. 0. 0. 0.]\n",
      "  [0. 0. 0. 0. 0. 0.]\n",
      "  [0. 0. 0. 0. 0. 0.]]\n",
      "\n",
      " [[0. 0. 0. 0. 0. 0.]\n",
      "  [0. 0. 0. 0. 0. 0.]\n",
      "  [0. 0. 0. 0. 0. 0.]\n",
      "  [0. 0. 0. 0. 0. 0.]\n",
      "  [0. 0. 0. 0. 0. 0.]]\n",
      "\n",
      " [[0. 0. 0. 0. 0. 0.]\n",
      "  [0. 0. 0. 0. 0. 0.]\n",
      "  [0. 0. 0. 0. 0. 0.]\n",
      "  [0. 0. 0. 0. 0. 0.]\n",
      "  [0. 0. 0. 0. 0. 0.]]\n",
      "\n",
      " [[0. 0. 0. 0. 0. 0.]\n",
      "  [0. 0. 0. 0. 0. 0.]\n",
      "  [0. 0. 0. 0. 0. 0.]\n",
      "  [0. 0. 0. 0. 0. 0.]\n",
      "  [0. 0. 0. 0. 0. 0.]]]\n",
      "(4, 5, 6)\n"
     ]
    }
   ],
   "source": [
    "import numpy as np\n",
    "\n",
    "a=np.zeros((4,5,6)) #3 dimensional\n",
    "\n",
    "print(a)\n",
    "\n",
    "print(np.shape(a))"
   ]
  },
  {
   "cell_type": "code",
   "execution_count": 62,
   "id": "6a846b57",
   "metadata": {},
   "outputs": [
    {
     "name": "stdout",
     "output_type": "stream",
     "text": [
      "2.5\n"
     ]
    }
   ],
   "source": [
    "import numpy as np\n",
    "\n",
    "a=np.zeros((2,2))\n",
    "a[0,0]=1\n",
    "a[0,1]=2\n",
    "a[1,0]=3\n",
    "a[1,1]=4\n",
    "\n",
    "print(np.mean(a))\n"
   ]
  },
  {
   "cell_type": "code",
   "execution_count": 63,
   "id": "46e53d67",
   "metadata": {},
   "outputs": [
    {
     "name": "stdout",
     "output_type": "stream",
     "text": [
      "2.0\n"
     ]
    }
   ],
   "source": [
    "import numpy as np\n",
    "\n",
    "a=np.zeros((2,2))\n",
    "a[0,0]=1\n",
    "a[0,1]=2\n",
    "a[1,0]=3\n",
    "a[1,1]=4\n",
    "\n",
    "print(np.mean(a[:,0]))"
   ]
  },
  {
   "cell_type": "code",
   "execution_count": 65,
   "id": "e7a2a9bb",
   "metadata": {},
   "outputs": [
    {
     "name": "stdout",
     "output_type": "stream",
     "text": [
      "3.0\n"
     ]
    }
   ],
   "source": [
    "import numpy as np\n",
    "\n",
    "a=np.zeros((2,2))\n",
    "a[0,0]=1\n",
    "a[0,1]=2\n",
    "a[1,0]=3\n",
    "a[1,1]=4\n",
    "\n",
    "print(np.mean(a[:,1]))"
   ]
  },
  {
   "cell_type": "code",
   "execution_count": 83,
   "id": "6066ca40",
   "metadata": {},
   "outputs": [
    {
     "data": {
      "text/plain": [
       "('local_temp.txt', <http.client.HTTPMessage at 0x7ff752f57af0>)"
      ]
     },
     "execution_count": 83,
     "metadata": {},
     "output_type": "execute_result"
    }
   ],
   "source": [
    "from urllib import request\n",
    "# Define the remote file to retrieve\n",
    "remote_url = 'https://www.dropbox.com/s/34pbn6cm1c8w2zg/temp_anomaly_global.txt?dl=0'\n",
    "# Define the local filename to save data\n",
    "local_file = 'local_temp.txt'\n",
    "# Download remote and save locally\n",
    "request.urlretrieve(remote_url, local_file)"
   ]
  },
  {
   "cell_type": "code",
   "execution_count": 68,
   "id": "2ffa69f8",
   "metadata": {},
   "outputs": [
    {
     "name": "stdout",
     "output_type": "stream",
     "text": [
      "(172, 12)\n"
     ]
    }
   ],
   "source": [
    "import numpy as np \n",
    "import pandas as pd \n",
    "import os \n",
    "import sys\n",
    "import matplotlib\n",
    "import matplotlib.pyplot as plt\n",
    "f2=[]\n",
    "f2 = np.loadtxt('../../data_files/temp_anomaly_global.txt') \n",
    "print(np.shape(f2))\n",
    "#plt.plot(f2[:,0],f2[:,2],f2[:,0],f2[:,6],f2[:,0],f2[:,4],f2[:,0],f2[:,9])\n",
    "#plt.show()"
   ]
  },
  {
   "cell_type": "code",
   "execution_count": 75,
   "id": "eb9edbe3",
   "metadata": {},
   "outputs": [
    {
     "name": "stdout",
     "output_type": "stream",
     "text": [
      "(172, 12)\n",
      "172 12\n"
     ]
    }
   ],
   "source": [
    "import numpy as np \n",
    "\n",
    "f2=[]\n",
    "f2 = np.loadtxt('../../data_files/temp_anomaly_global.txt') \n",
    "print(np.shape(f2))\n",
    "a=np.shape(f2)\n",
    "print(a[0],a[1])"
   ]
  }
 ],
 "metadata": {
  "kernelspec": {
   "display_name": "Python 3 (ipykernel)",
   "language": "python",
   "name": "python3"
  },
  "language_info": {
   "codemirror_mode": {
    "name": "ipython",
    "version": 3
   },
   "file_extension": ".py",
   "mimetype": "text/x-python",
   "name": "python",
   "nbconvert_exporter": "python",
   "pygments_lexer": "ipython3",
   "version": "3.9.12"
  }
 },
 "nbformat": 4,
 "nbformat_minor": 5
}
